{
  "cells": [
    {
      "cell_type": "code",
      "execution_count": 1,
      "metadata": {
        "colab": {
          "base_uri": "https://localhost:8080/"
        },
        "id": "tBZx17g2KR-X",
        "outputId": "4a358fb5-2ae0-41b0-e60e-e79c102adf6e"
      },
      "outputs": [],
      "source": [
        "# pip install opencv-python-headless numpy"
      ]
    },
    {
      "cell_type": "code",
      "execution_count": 1,
      "metadata": {
        "colab": {
          "base_uri": "https://localhost:8080/"
        },
        "id": "98peaLUoLZFu",
        "outputId": "ea1d97da-80f1-40cc-f1ea-0698346f6ff4"
      },
      "outputs": [
        {
          "name": "stdout",
          "output_type": "stream",
          "text": [
            "(100, 100)\n"
          ]
        },
        {
          "data": {
            "text/plain": [
              "True"
            ]
          },
          "execution_count": 1,
          "metadata": {},
          "output_type": "execute_result"
        }
      ],
      "source": [
        "import cv2\n",
        "import numpy as np\n",
        "\n",
        "# Load the image\n",
        "image = cv2.imread('./text21.png')\n",
        "\n",
        "# Convert the image to grayscale\n",
        "gray_image = cv2.cvtColor(image, cv2.COLOR_BGR2GRAY)\n",
        "\n",
        "# Convert the grayscale image to a NumPy array\n",
        "gray_array = np.array(gray_image)\n",
        "\n",
        "# Display the shape of the NumPy array\n",
        "print(gray_array.shape)\n",
        "\n",
        "# Optionally, save the grayscale image\n",
        "cv2.imwrite('grayscale_image.jpg', gray_image)\n"
      ]
    },
    {
      "cell_type": "code",
      "execution_count": 2,
      "metadata": {
        "colab": {
          "base_uri": "https://localhost:8080/"
        },
        "id": "nP7YeLsKclz4",
        "outputId": "fa9ee675-2aef-449d-9c32-95d26383d2e1"
      },
      "outputs": [
        {
          "data": {
            "text/plain": [
              "208"
            ]
          },
          "execution_count": 2,
          "metadata": {},
          "output_type": "execute_result"
        }
      ],
      "source": [
        "max(gray_array[0])"
      ]
    },
    {
      "cell_type": "code",
      "execution_count": 3,
      "metadata": {
        "id": "CbylgRdcKPdT"
      },
      "outputs": [],
      "source": [
        "# import cv2\n",
        "# import numpy as np\n",
        "\n",
        "# # Ask the user for the image file path\n",
        "# image_path = input(\"Enter the path to the image file: \")\n",
        "\n",
        "# try:\n",
        "#     # Load the image\n",
        "#     image = cv2.imread(image_path)\n",
        "\n",
        "#     # Convert the image to grayscale\n",
        "#     gray_image = cv2.cvtColor(image, cv2.COLOR_BGR2GRAY)\n",
        "\n",
        "#     # Convert the grayscale image to a NumPy array\n",
        "#     gray_array = np.array(gray_image)\n",
        "\n",
        "#     # Display the shape of the NumPy array\n",
        "#     print(\"Shape of the grayscale array:\", gray_array.shape)\n",
        "\n",
        "#     # Optionally, save the grayscale image\n",
        "#     cv2.imwrite('grayscale_image.jpg', gray_image)\n",
        "\n",
        "# except Exception as e:\n",
        "#     print(\"An error occurred:\", e)\n"
      ]
    },
    {
      "cell_type": "code",
      "execution_count": 4,
      "metadata": {
        "id": "oau7EtzbVExa"
      },
      "outputs": [],
      "source": [
        "# import random\n",
        "\n",
        "# def generate_random_pixels(width, height, pixel_range):\n",
        "#     pixels = [[(random.randint(pixel_range[0], pixel_range[1]))\n",
        "#                for _ in range(width)]\n",
        "#               for _ in range(height)]\n",
        "#     return pixels\n",
        "\n",
        "# # Define parameters\n",
        "# width = 800\n",
        "# height = 600\n",
        "# pixel_range = (0, 49)  # Example: for grayscale L=50\n",
        "\n",
        "# Generate 2D array of pixels\n",
        "array1 = gray_array\n",
        "array = np.array(array1, dtype=np.int16)\n",
        "\n"
      ]
    },
    {
      "cell_type": "code",
      "execution_count": 5,
      "metadata": {
        "id": "IwBEjD1wgOKx"
      },
      "outputs": [],
      "source": [
        "shape = gray_array.shape\n",
        "width = shape[1]\n",
        "height = shape[0]\n",
        "pixel_range = (0, 255)\n",
        "m=10 #horizontal j\n",
        "n=10 #vertical i\n",
        "d1 = 1 # horizontal\n",
        "d2 = 0 # vertical"
      ]
    },
    {
      "cell_type": "code",
      "execution_count": 6,
      "metadata": {
        "id": "zfu9JVcqiQCd"
      },
      "outputs": [],
      "source": [
        "arr1 = {i: 0 for i in range(2*pixel_range[1]+1)}\n",
        "arr2 = {i: 0 for i in range(-pixel_range[1], pixel_range[1]+1)}\n",
        "temp_sum = {i: 0 for i in range(2*pixel_range[1]+1)}\n",
        "temp_diff = {i: 0 for i in range(-pixel_range[1], pixel_range[1]+1)}"
      ]
    },
    {
      "cell_type": "code",
      "execution_count": 7,
      "metadata": {
        "id": "upmIuIIKKQDM"
      },
      "outputs": [],
      "source": [
        "import numpy as np"
      ]
    },
    {
      "cell_type": "code",
      "execution_count": 8,
      "metadata": {
        "id": "C7RuhP5zzXYs"
      },
      "outputs": [],
      "source": [
        "import math\n",
        "\n",
        "def ASM(S,D):\n",
        "    Psum=0\n",
        "    Pdiff=0\n",
        "\n",
        "    for i in range(0,len(S)):\n",
        "        Psum += (S[i])**2\n",
        "\n",
        "    for i in range(0,len(S)):\n",
        "        Pdiff += (D[i])**2\n",
        "\n",
        "    return Psum*Pdiff\n",
        "\n",
        "def IDM(S,D):\n",
        "    Sum=0\n",
        "    L= (len(D)+1)/2\n",
        "    for j in range(0,len(D)):\n",
        "        Sum += D[j]/(1+(j-L+1)**2)\n",
        "\n",
        "    return Sum\n",
        "\n",
        "def CON(S,D):\n",
        "    Sum=0\n",
        "    L= (len(D)+1)/2\n",
        "    for j in range(0,len(D)):\n",
        "        Sum += ((j-L+1)**2)*D[j]\n",
        "\n",
        "    return Sum\n",
        "\n",
        "def ENT(S,D):\n",
        "    SumS=0\n",
        "    SumD=0\n",
        "\n",
        "    for i in range(0,len(S)):\n",
        "        if(S[i]!=0):\n",
        "            SumS += S[i]*(math.log10(S[i]))\n",
        "        if(D[i]!=0):\n",
        "            SumD += D[i]*(math.log10(D[i]))\n",
        "\n",
        "    return -SumS-SumD"
      ]
    },
    {
      "cell_type": "code",
      "execution_count": 9,
      "metadata": {
        "id": "OOh3rD2P1tAW"
      },
      "outputs": [],
      "source": [
        "asm = np.array([[0 for j in range(width-m)] for i in range(height-n)],dtype=float)\n",
        "idm = np.array([[0 for j in range(width-m)] for i in range(height-n)],dtype=float)\n",
        "con = np.array([[0 for j in range(width-m)] for i in range(height-n)],dtype=float)\n",
        "ent = np.array([[0 for j in range(width-m)] for i in range(height-n)],dtype=float)"
      ]
    },
    {
      "cell_type": "code",
      "execution_count": 10,
      "metadata": {
        "id": "l8dU_J7q2Rng"
      },
      "outputs": [],
      "source": [
        "def norm(ar):\n",
        "  sum = np.sum(ar)\n",
        "  normalized_data = ar / sum\n",
        "  return normalized_data\n"
      ]
    },
    {
      "cell_type": "code",
      "execution_count": null,
      "metadata": {
        "id": "XykA2vvRqFCI"
      },
      "outputs": [],
      "source": []
    },
    {
      "cell_type": "code",
      "execution_count": 11,
      "metadata": {
        "colab": {
          "base_uri": "https://localhost:8080/"
        },
        "id": "Tp-ZIveZvI1Q",
        "outputId": "ea65be58-2450-4feb-c341-8ba6fb2c4bc3"
      },
      "outputs": [],
      "source": [
        "for k in range(height-n):\n",
        "  for l in range(width-m):\n",
        "    arr1 = {i: 0 for i in range(2*pixel_range[1]+1)}\n",
        "    arr2 = {i: 0 for i in range(-pixel_range[1], pixel_range[1]+1)}\n",
        "    for i in range(n-d2):\n",
        "      for j in range(m-d1):\n",
        "        arr1[array[k+i][l+j]+array[k+i+d2][l+j+d1]] = arr1[array[k+i][l+j]+array[k+i+d2][l+j+d1]] + 1\n",
        "\n",
        "        arr2[array[k+i][l+j]-array[k+i+d2][l+j+d1]] = arr2[array[k+i][l+j]-array[k+i+d2][l+j+d1]] + 1\n",
        "\n",
        "        if(j==0):\n",
        "          temp_sum[array[k+i][l+j]+array[k+i+d2][l+j+d1]] = temp_sum[array[k+i][l+j]+array[k+i+d2][l+j+d1]] + 1\n",
        "          temp_diff[array[k+i][l+j]-array[k+i+d2][l+j+d1]] = temp_diff[array[k+i][l+j]-array[k+i+d2][l+j+d1]] + 1\n",
        "\n",
        "    S = norm(np.array(list(arr1.values())))\n",
        "    D = norm(np.array(list(arr2.values())))\n",
        "    # print(np.array(list(arr1.values())), S, np.array(list(arr2.values())), D)\n",
        "    asm[k][l]=float(ASM(S,D))\n",
        "    idm[k][l]=float(IDM(S,D))\n",
        "    con[k][l]=float(CON(S,D))\n",
        "    ent[k][l]=float(ENT(S,D))\n"
      ]
    },
    {
      "cell_type": "code",
      "execution_count": 12,
      "metadata": {
        "id": "v7esJFhy2YV7"
      },
      "outputs": [
        {
          "data": {
            "text/plain": [
              "array([[0.00322512, 0.002457  , 0.00218113, ..., 0.00533656, 0.0046032 ,\n",
              "        0.00365798],\n",
              "       [0.00349032, 0.00263167, 0.00215272, ..., 0.0056128 , 0.00494321,\n",
              "        0.00373419],\n",
              "       [0.0035961 , 0.00276848, 0.00213626, ..., 0.00560671, 0.00507179,\n",
              "        0.00372504],\n",
              "       ...,\n",
              "       [0.00053297, 0.00057211, 0.00055967, ..., 0.00071733, 0.00065185,\n",
              "        0.00077086],\n",
              "       [0.00052724, 0.00054803, 0.00053638, ..., 0.00077458, 0.00073086,\n",
              "        0.00077824],\n",
              "       [0.00047188, 0.00050968, 0.00046554, ..., 0.00077866, 0.00077147,\n",
              "        0.00082731]])"
            ]
          },
          "execution_count": 12,
          "metadata": {},
          "output_type": "execute_result"
        }
      ],
      "source": [
        "asm"
      ]
    },
    {
      "cell_type": "code",
      "execution_count": 13,
      "metadata": {
        "id": "PmbuDUx7wFWq"
      },
      "outputs": [
        {
          "data": {
            "text/plain": [
              "array([[0.12912155, 0.12826529, 0.12812764, ..., 0.21177769, 0.17932369,\n",
              "        0.15566892],\n",
              "       [0.13070997, 0.14074016, 0.13984046, ..., 0.22400791, 0.19161317,\n",
              "        0.15642027],\n",
              "       [0.12928873, 0.14991967, 0.14885702, ..., 0.22425981, 0.19202315,\n",
              "        0.14650388],\n",
              "       ...,\n",
              "       [0.06979   , 0.08146295, 0.09297412, ..., 0.08419609, 0.06208059,\n",
              "        0.07316173],\n",
              "       [0.08056264, 0.09229231, 0.10393203, ..., 0.10703755, 0.09601216,\n",
              "        0.08491256],\n",
              "       [0.06927124, 0.08084424, 0.08141481, ..., 0.10663549, 0.09554738,\n",
              "        0.08457512]])"
            ]
          },
          "execution_count": 13,
          "metadata": {},
          "output_type": "execute_result"
        }
      ],
      "source": [
        "idm"
      ]
    },
    {
      "cell_type": "code",
      "execution_count": 14,
      "metadata": {
        "id": "j15wDE4Hz5ZE"
      },
      "outputs": [
        {
          "data": {
            "text/plain": [
              "array([[ 187.63333333,  186.56666667,  217.56666667, ...,  102.82222222,\n",
              "         117.51111111,  141.05555556],\n",
              "       [ 172.64444444,  174.64444444,  214.        , ...,  103.        ,\n",
              "         118.23333333,  143.84444444],\n",
              "       [ 186.21111111,  184.3       ,  229.62222222, ...,  103.96666667,\n",
              "         123.13333333,  148.12222222],\n",
              "       ...,\n",
              "       [1299.78888889, 1228.21111111, 1099.86666667, ..., 1335.96666667,\n",
              "        1299.58888889, 1082.44444444],\n",
              "       [1387.35555556, 1325.36666667, 1178.44444444, ..., 1218.67777778,\n",
              "        1193.75555556,  997.11111111],\n",
              "       [1539.66666667, 1417.78888889, 1273.3       , ..., 1252.04444444,\n",
              "        1201.23333333, 1013.68888889]])"
            ]
          },
          "execution_count": 14,
          "metadata": {},
          "output_type": "execute_result"
        }
      ],
      "source": [
        "con"
      ]
    },
    {
      "cell_type": "code",
      "execution_count": 15,
      "metadata": {
        "id": "kEOl4rbWz5_Q"
      },
      "outputs": [
        {
          "data": {
            "text/plain": [
              "array([[2.74095259, 2.80267873, 2.86191309, ..., 2.52223571, 2.56549693,\n",
              "        2.63089681],\n",
              "       [2.69567388, 2.78459808, 2.87592044, ..., 2.51019096, 2.54755624,\n",
              "        2.61941014],\n",
              "       [2.69327516, 2.7815755 , 2.88396466, ..., 2.52030954, 2.54769108,\n",
              "        2.62604558],\n",
              "       ...,\n",
              "       [3.39729231, 3.37586442, 3.39653785, ..., 3.31015769, 3.33322527,\n",
              "        3.29178227],\n",
              "       [3.41272237, 3.40903173, 3.42910039, ..., 3.3072215 , 3.31723483,\n",
              "        3.28836293],\n",
              "       [3.44500444, 3.41941192, 3.45626987, ..., 3.29506166, 3.28631198,\n",
              "        3.25819454]])"
            ]
          },
          "execution_count": 15,
          "metadata": {},
          "output_type": "execute_result"
        }
      ],
      "source": [
        "ent"
      ]
    },
    {
      "cell_type": "code",
      "execution_count": 16,
      "metadata": {
        "id": "PqdDHhWzJW0B"
      },
      "outputs": [],
      "source": [
        "import pandas as pd\n",
        "import numpy as np\n",
        "import matplotlib.pyplot as plt\n",
        "import seaborn as sns"
      ]
    },
    {
      "cell_type": "code",
      "execution_count": 17,
      "metadata": {
        "id": "x4ekjtNem6w0"
      },
      "outputs": [],
      "source": [
        "data ={}\n",
        "df = pd.DataFrame(data)\n",
        "\n",
        "\n",
        "# Create a 2D NumPy array\n",
        "array_2d = asm\n",
        "\n",
        "# Flatten the array\n",
        "flattened_array_asm = array_2d.ravel()\n",
        "\n",
        "# Create a Pandas Series from the flattened array\n",
        "asm_s = pd.Series(flattened_array_asm)\n",
        "df['asm'] = asm_s\n",
        "\n",
        "\n",
        "# Create a 2D NumPy array\n",
        "array_2d = idm\n",
        "\n",
        "# Flatten the array\n",
        "flattened_array_idm = array_2d.ravel()\n",
        "\n",
        "# Create a Pandas Series from the flattened array\n",
        "idm_s = pd.Series(flattened_array_idm)\n",
        "df['idm'] = idm_s\n",
        "\n",
        "\n",
        "# Create a 2D NumPy array\n",
        "array_2d = con\n",
        "\n",
        "# Flatten the array\n",
        "flattened_array_con = array_2d.ravel()\n",
        "\n",
        "# Create a Pandas Series from the flattened array\n",
        "con_s = pd.Series(flattened_array_con)\n",
        "df['con'] = con_s\n",
        "\n",
        "# Create a 2D NumPy array\n",
        "array_2d = ent\n",
        "\n",
        "# Flatten the array\n",
        "flattened_array_ent = array_2d.ravel()\n",
        "\n",
        "# Create a Pandas Series from the flattened array\n",
        "ent_s = pd.Series(flattened_array_ent)\n",
        "df['ent'] = ent_s\n",
        "\n",
        "\n",
        "\n",
        "\n",
        "\n",
        "\n",
        "\n"
      ]
    },
    {
      "cell_type": "code",
      "execution_count": 18,
      "metadata": {
        "id": "K3tLmKPMJd28"
      },
      "outputs": [],
      "source": [
        "# df= pd.read_csv(\"/content/drive/MyDrive/GNR 607/wine-clustering.csv\")\n",
        "# df"
      ]
    },
    {
      "cell_type": "code",
      "execution_count": 19,
      "metadata": {
        "id": "MukJrsEGJ0Qf"
      },
      "outputs": [
        {
          "data": {
            "image/png": "[encoded data removed]",
            "text/plain": [
              "<Figure size 432x288 with 1 Axes>"
            ]
          },
          "metadata": {
            "needs_background": "light"
          },
          "output_type": "display_data"
        }
      ],
      "source": [
        "X = df.iloc[:,2]\n",
        "y = df.iloc[:,1]\n",
        "plt.scatter(X,y);"
      ]
    },
    {
      "cell_type": "code",
      "execution_count": 20,
      "metadata": {
        "id": "vhLt6S1OMP-w"
      },
      "outputs": [],
      "source": [
        "# # import module\n",
        "# from sklearn.preprocessing import StandardScaler\n",
        "\n",
        "# # compute required values\n",
        "# scaler = StandardScaler()\n",
        "# model = scaler.fit(df)\n",
        "# scaled_data = model.transform(df)\n",
        "\n",
        "# # print scaled data\n",
        "# print(scaled_data)\n"
      ]
    },
    {
      "cell_type": "code",
      "execution_count": 21,
      "metadata": {
        "id": "1bO7VqDQMwG_"
      },
      "outputs": [],
      "source": [
        "# from sklearn.decomposition import PCA\n",
        "# pca_2 = PCA(n_components=3)\n",
        "# pca_2_result = pca_2.fit_transform(scaled_data)\n",
        "# print('Explained variation per principal component: {}'.format(pca_2.explained_variance_ratio_))\n",
        "\n",
        "# # >> Explained variation per principal component: [0.36198848 0.1920749 ]\n",
        "\n",
        "# print('Cumulative variance explained by 2 principal components: {:.2%}'.format(np.sum(pca_2.explained_variance_ratio_)))\n"
      ]
    },
    {
      "cell_type": "code",
      "execution_count": 22,
      "metadata": {
        "id": "80VuXpC7qNdT"
      },
      "outputs": [],
      "source": [
        "scaled_data = df"
      ]
    },
    {
      "cell_type": "code",
      "execution_count": null,
      "metadata": {
        "id": "47jATow0SLu5"
      },
      "outputs": [],
      "source": []
    },
    {
      "cell_type": "code",
      "execution_count": 23,
      "metadata": {
        "id": "bNTbTxtJKEIp"
      },
      "outputs": [
        {
          "data": {
            "text/plain": [
              "KMeans(max_iter=1000, n_clusters=2)"
            ]
          },
          "execution_count": 23,
          "metadata": {},
          "output_type": "execute_result"
        }
      ],
      "source": [
        "from sklearn.cluster import KMeans\n",
        "kmeans = KMeans(n_clusters=2,max_iter=1000)\n",
        "kmeans.fit(scaled_data)"
      ]
    },
    {
      "cell_type": "code",
      "execution_count": 24,
      "metadata": {
        "id": "pn7muPxPKNMV"
      },
      "outputs": [
        {
          "data": {
            "text/plain": [
              "(8100,)"
            ]
          },
          "execution_count": 24,
          "metadata": {},
          "output_type": "execute_result"
        }
      ],
      "source": [
        "cl = kmeans.predict(scaled_data)\n",
        "cl.shape"
      ]
    },
    {
      "cell_type": "code",
      "execution_count": 25,
      "metadata": {
        "id": "TK6zGIFgKXWM"
      },
      "outputs": [
        {
          "data": {
            "image/png": "[encoded data removed]",
            "text/plain": [
              "<Figure size 432x288 with 1 Axes>"
            ]
          },
          "metadata": {
            "needs_background": "light"
          },
          "output_type": "display_data"
        }
      ],
      "source": [
        "X = df.iloc[:,1]\n",
        "y = df.iloc[:,-1]\n",
        "plt.scatter(X,y,c=cl);"
      ]
    },
    {
      "cell_type": "code",
      "execution_count": 26,
      "metadata": {
        "id": "jsyuePvGKc31"
      },
      "outputs": [
        {
          "data": {
            "text/plain": [
              "297175864.5954983"
            ]
          },
          "execution_count": 26,
          "metadata": {},
          "output_type": "execute_result"
        }
      ],
      "source": [
        "kmeans.inertia_"
      ]
    },
    {
      "cell_type": "code",
      "execution_count": null,
      "metadata": {
        "id": "UlITwr8bZPp8"
      },
      "outputs": [],
      "source": []
    },
    {
      "cell_type": "code",
      "execution_count": null,
      "metadata": {
        "id": "N1y9oFzpZPmi"
      },
      "outputs": [],
      "source": []
    },
    {
      "cell_type": "code",
      "execution_count": 27,
      "metadata": {
        "id": "4KSBiLXNKpqn"
      },
      "outputs": [],
      "source": [
        "# from sklearn.model_selection import ParameterGrid\n",
        "# import sklearn.metrics as metrics\n",
        "\n",
        "# # candidate values for our number of cluster\n",
        "# parameters = [2, 3, 4, 5, 10, 15, 20, 25, 30, 35, 40]\n",
        "# # instantiating ParameterGrid, pass number of clusters as input\n",
        "# parameter_grid = ParameterGrid({'n_clusters': parameters})\n",
        "# best_score = -1\n",
        "# kmeans_model = KMeans()     # instantiating KMeans model\n",
        "# silhouette_scores = []\n",
        "# # evaluation based on silhouette_score\n",
        "# for p in parameter_grid:\n",
        "#     kmeans_model.set_params(**p)    # set current hyper parameter\n",
        "#     kmeans_model.fit(df)          # fit model on wine dataset, this will find clusters based on parameter p\n",
        "#     ss = metrics.silhouette_score(df, kmeans_model.labels_)   # calculate silhouette_score\n",
        "#     silhouette_scores += [ss]       # store all the scores\n",
        "#     print('Parameter:', p, 'Score', ss)\n",
        "#     # check p which has the best score\n",
        "#     if ss > best_score:\n",
        "#         best_score = ss\n",
        "#         best_grid = p\n",
        "# # plotting silhouette score\n",
        "# plt.bar(range(len(silhouette_scores)), list(silhouette_scores), align='center', color='#722f59', width=0.5)\n",
        "# plt.xticks(range(len(silhouette_scores)), list(parameters))\n",
        "# plt.title('Silhouette Score', fontweight='bold')\n",
        "# plt.xlabel('Number of Clusters')\n",
        "# plt.show()\n"
      ]
    },
    {
      "cell_type": "code",
      "execution_count": 28,
      "metadata": {
        "id": "HMf_3Y7JLLXb"
      },
      "outputs": [],
      "source": [
        "# fitting KMeans\n",
        "kmeans = KMeans(n_clusters=2)\n",
        "kmeans.fit(scaled_data)\n",
        "\n",
        "final_cl = kmeans.predict(scaled_data)"
      ]
    },
    {
      "cell_type": "code",
      "execution_count": 29,
      "metadata": {
        "id": "i5BR8DFoWVuO"
      },
      "outputs": [],
      "source": [
        "# # def min_arr(arr):\n",
        "# #   min = 255\n",
        "# #   for i in arr:\n",
        "# #    if min>i:\n",
        "# #     min = i\n",
        "# #   return min\n",
        "\n",
        "def max_arr(arr):\n",
        "    max = 0\n",
        "    for i in range(0,arr.size):\n",
        "      if max<arr[i]:\n",
        "       max = arr[i]\n",
        "    return max"
      ]
    },
    {
      "cell_type": "code",
      "execution_count": 30,
      "metadata": {
        "id": "zg1A3mg1Xddv"
      },
      "outputs": [],
      "source": [
        "# # max_v = max_arr(cl)# cl = scale_to_0_255(cl\n",
        "# # final_cl = final_cl*255\n",
        "max_v = max_arr(final_cl)\n",
        "final_cl = final_cl*(255/max_v)"
      ]
    },
    {
      "cell_type": "code",
      "execution_count": 31,
      "metadata": {
        "id": "3LRjVTz9Ypim"
      },
      "outputs": [
        {
          "data": {
            "text/plain": [
              "(8100,)"
            ]
          },
          "execution_count": 31,
          "metadata": {},
          "output_type": "execute_result"
        }
      ],
      "source": [
        "final_cl.shape"
      ]
    },
    {
      "cell_type": "code",
      "execution_count": 32,
      "metadata": {
        "id": "_h3AoYqLqyz5"
      },
      "outputs": [
        {
          "data": {
            "text/plain": [
              "(90, 90)"
            ]
          },
          "execution_count": 32,
          "metadata": {},
          "output_type": "execute_result"
        }
      ],
      "source": [
        "final_cl = final_cl.reshape(ent.shape[0],ent.shape[1])\n",
        "final_cl.shape"
      ]
    },
    {
      "cell_type": "code",
      "execution_count": 33,
      "metadata": {
        "id": "Gix_vqjPWLuE"
      },
      "outputs": [
        {
          "data": {
            "text/plain": [
              "array([[255., 255., 255., ..., 255., 255., 255.],\n",
              "       [255., 255., 255., ..., 255., 255., 255.],\n",
              "       [255., 255., 255., ..., 255., 255., 255.],\n",
              "       ...,\n",
              "       [  0.,   0.,   0., ...,   0.,   0.,   0.],\n",
              "       [  0.,   0.,   0., ...,   0.,   0.,   0.],\n",
              "       [  0.,   0.,   0., ...,   0.,   0.,   0.]])"
            ]
          },
          "execution_count": 33,
          "metadata": {},
          "output_type": "execute_result"
        }
      ],
      "source": [
        "final_cl"
      ]
    },
    {
      "cell_type": "code",
      "execution_count": 34,
      "metadata": {
        "id": "UekgdLZ-syPm"
      },
      "outputs": [],
      "source": [
        "# import numpy as np\n",
        "\n",
        "# def scale_to_0_255(arr):\n",
        "#     min_value = min_arr(arr)\n",
        "#     max_value = max_arr(arr)\n",
        "\n",
        "#     scaled_arr = []\n",
        "\n",
        "#     for value in arr:\n",
        "#         scaled_value = ((value - min_value) / (max_value - min_value)) * 255\n",
        "#         scaled_arr.append(scaled_value)\n",
        "\n",
        "#     return scaled_arr\n"
      ]
    },
    {
      "cell_type": "code",
      "execution_count": 35,
      "metadata": {
        "id": "jIn4Ty0ibvrP"
      },
      "outputs": [
        {
          "data": {
            "text/plain": [
              "array([[255., 255., 255., ..., 255., 255., 255.],\n",
              "       [255., 255., 255., ..., 255., 255., 255.],\n",
              "       [255., 255., 255., ..., 255., 255., 255.],\n",
              "       ...,\n",
              "       [  0.,   0.,   0., ...,   0.,   0.,   0.],\n",
              "       [  0.,   0.,   0., ...,   0.,   0.,   0.],\n",
              "       [  0.,   0.,   0., ...,   0.,   0.,   0.]])"
            ]
          },
          "execution_count": 35,
          "metadata": {},
          "output_type": "execute_result"
        }
      ],
      "source": [
        "final_cl"
      ]
    },
    {
      "cell_type": "code",
      "execution_count": 36,
      "metadata": {
        "id": "UgKJLWhtbMj5"
      },
      "outputs": [
        {
          "data": {
            "text/plain": [
              "3262.0"
            ]
          },
          "execution_count": 36,
          "metadata": {},
          "output_type": "execute_result"
        }
      ],
      "source": [
        "count = 0\n",
        "for i in final_cl:\n",
        "  for j in i:\n",
        "    count+=j\n",
        "\n",
        "count = count/255\n",
        "count"
      ]
    },
    {
      "cell_type": "code",
      "execution_count": 37,
      "metadata": {
        "id": "fDDZK8CxQ5_u"
      },
      "outputs": [],
      "source": [
        "df_new = pd.DataFrame(final_cl)\n",
        "df_new.to_csv('sample_data.csv', index=True)\n"
      ]
    },
    {
      "cell_type": "code",
      "execution_count": 38,
      "metadata": {
        "id": "y_oyYynWre_8"
      },
      "outputs": [
        {
          "data": {
            "text/plain": [
              "True"
            ]
          },
          "execution_count": 38,
          "metadata": {},
          "output_type": "execute_result"
        }
      ],
      "source": [
        "# image = cv2.cvtColor(cl)  # Convert grayscale to BGR (color) image\n",
        "\n",
        "# # Save the image to a file (optional)\n",
        "# cv2.imwrite('output.png', image)\n",
        "\n",
        "grayscale_image = cv2.merge((final_cl,final_cl,final_cl))\n",
        "\n",
        "\n",
        "# Save the grayscale image to a file (optional)\n",
        "cv2.imwrite('output.png', grayscale_image)\n"
      ]
    },
    {
      "cell_type": "code",
      "execution_count": 52,
      "metadata": {
        "id": "twP8UakCJH3z"
      },
      "outputs": [
        {
          "data": {
            "text/plain": [
              "True"
            ]
          },
          "execution_count": 52,
          "metadata": {},
          "output_type": "execute_result"
        }
      ],
      "source": [
        "# image = cv2.cvtColor(cl)  # Convert grayscale to BGR (color) image\n",
        "\n",
        "def max_arr2d(arr):\n",
        "    max = 0\n",
        "    for i in range(0,len(arr)):\n",
        "      for j in range(0,len(arr[0])):\n",
        "        if max<arr[i][j]:\n",
        "          max = arr[i][j]\n",
        "\n",
        "    if(max == 0):\n",
        "      max = 255\n",
        "    return max\n",
        "\n",
        "# # Save the image to a file (optional)\n",
        "# cv2.imwrite('output.png', image)\n",
        "# print(max_arr2d(asm))\n",
        "asm_=asm*(255/max_arr2d(asm))\n",
        "grayscale_image = cv2.merge((asm_,asm_,asm_))\n",
        "\n",
        "# Save the grayscale image to a file (optional)\n",
        "cv2.imwrite('asm.png', grayscale_image)"
      ]
    },
    {
      "cell_type": "code",
      "execution_count": 53,
      "metadata": {},
      "outputs": [],
      "source": [
        "asm_=asm*(255/max_arr2d(asm))\n",
        "asm = cv2.merge((asm_, asm_, asm_))\n",
        "asm = asm.astype(np.uint8)\n",
        "asm_pil = cv2.cvtColor(asm, cv2.COLOR_BGR2RGB)"
      ]
    },
    {
      "cell_type": "code",
      "execution_count": 56,
      "metadata": {},
      "outputs": [
        {
          "data": {
            "text/plain": [
              "array([[[43, 43, 43],\n",
              "        [33, 33, 33],\n",
              "        [29, 29, 29],\n",
              "        ...,\n",
              "        [72, 72, 72],\n",
              "        [62, 62, 62],\n",
              "        [49, 49, 49]],\n",
              "\n",
              "       [[47, 47, 47],\n",
              "        [35, 35, 35],\n",
              "        [29, 29, 29],\n",
              "        ...,\n",
              "        [75, 75, 75],\n",
              "        [66, 66, 66],\n",
              "        [50, 50, 50]],\n",
              "\n",
              "       [[48, 48, 48],\n",
              "        [37, 37, 37],\n",
              "        [28, 28, 28],\n",
              "        ...,\n",
              "        [75, 75, 75],\n",
              "        [68, 68, 68],\n",
              "        [50, 50, 50]],\n",
              "\n",
              "       ...,\n",
              "\n",
              "       [[ 7,  7,  7],\n",
              "        [ 7,  7,  7],\n",
              "        [ 7,  7,  7],\n",
              "        ...,\n",
              "        [ 9,  9,  9],\n",
              "        [ 8,  8,  8],\n",
              "        [10, 10, 10]],\n",
              "\n",
              "       [[ 7,  7,  7],\n",
              "        [ 7,  7,  7],\n",
              "        [ 7,  7,  7],\n",
              "        ...,\n",
              "        [10, 10, 10],\n",
              "        [ 9,  9,  9],\n",
              "        [10, 10, 10]],\n",
              "\n",
              "       [[ 6,  6,  6],\n",
              "        [ 6,  6,  6],\n",
              "        [ 6,  6,  6],\n",
              "        ...,\n",
              "        [10, 10, 10],\n",
              "        [10, 10, 10],\n",
              "        [11, 11, 11]]], dtype=uint8)"
            ]
          },
          "execution_count": 56,
          "metadata": {},
          "output_type": "execute_result"
        }
      ],
      "source": [
        "asm_pil"
      ]
    },
    {
      "cell_type": "code",
      "execution_count": 57,
      "metadata": {},
      "outputs": [
        {
          "data": {
            "text/plain": [
              "True"
            ]
          },
          "execution_count": 57,
          "metadata": {},
          "output_type": "execute_result"
        }
      ],
      "source": [
        "# cv2.imshow(\"asm\",asm_pil)\n",
        "cv2.imwrite('asm4.png', asm_pil)"
      ]
    },
    {
      "cell_type": "code",
      "execution_count": 58,
      "metadata": {},
      "outputs": [
        {
          "data": {
            "text/plain": [
              "True"
            ]
          },
          "execution_count": 58,
          "metadata": {},
          "output_type": "execute_result"
        }
      ],
      "source": [
        "idm_=idm*(255/max_arr2d(idm))\n",
        "idm = cv2.merge((idm_, idm_, idm_))\n",
        "idm = idm.astype(np.uint8)\n",
        "idm_pil = cv2.cvtColor(idm, cv2.COLOR_BGR2RGB)\n",
        "cv2.imwrite('idm4.png', idm_pil)"
      ]
    },
    {
      "cell_type": "code",
      "execution_count": 59,
      "metadata": {},
      "outputs": [
        {
          "data": {
            "text/plain": [
              "True"
            ]
          },
          "execution_count": 59,
          "metadata": {},
          "output_type": "execute_result"
        }
      ],
      "source": [
        "con_=con*(255/max_arr2d(con))\n",
        "con = cv2.merge((con_, con_, con_))\n",
        "con = con.astype(np.uint8)\n",
        "con_pil = cv2.cvtColor(con, cv2.COLOR_BGR2RGB)\n",
        "cv2.imwrite('con4.png', con_pil)"
      ]
    },
    {
      "cell_type": "code",
      "execution_count": 60,
      "metadata": {},
      "outputs": [
        {
          "data": {
            "text/plain": [
              "True"
            ]
          },
          "execution_count": 60,
          "metadata": {},
          "output_type": "execute_result"
        }
      ],
      "source": [
        "ent_=ent*(255/max_arr2d(ent))\n",
        "ent = cv2.merge((ent_, ent_, ent_))\n",
        "ent = ent.astype(np.uint8)\n",
        "ent_pil = cv2.cvtColor(ent, cv2.COLOR_BGR2RGB)\n",
        "cv2.imwrite('ent4.png', ent_pil)"
      ]
    },
    {
      "cell_type": "code",
      "execution_count": 61,
      "metadata": {},
      "outputs": [
        {
          "data": {
            "text/plain": [
              "True"
            ]
          },
          "execution_count": 61,
          "metadata": {},
          "output_type": "execute_result"
        }
      ],
      "source": [
        "grayscale_image = cv2.merge((final_cl,final_cl,final_cl))\n",
        "grayscale_image = grayscale_image.astype(np.uint8)\n",
        "grayscale_im_pil = cv2.cvtColor(grayscale_image, cv2.COLOR_BGR2RGB)\n",
        "cv2.imwrite('clustered4.png', grayscale_im_pil)"
      ]
    },
    {
      "cell_type": "code",
      "execution_count": null,
      "metadata": {
        "id": "I2TCwN3KKw1j"
      },
      "outputs": [],
      "source": [
        "arr1 = {i: 0 for i in range(2*pixel_range[1]+1)}\n",
        "arr2 = {i: 0 for i in range(-pixel_range[1], pixel_range[1]+1)}"
      ]
    }
  ],
  "metadata": {
    "colab": {
      "provenance": []
    },
    "kernelspec": {
      "display_name": "Python 3",
      "language": "python",
      "name": "python3"
    },
    "language_info": {
      "codemirror_mode": {
        "name": "ipython",
        "version": 3
      },
      "file_extension": ".py",
      "mimetype": "text/x-python",
      "name": "python",
      "nbconvert_exporter": "python",
      "pygments_lexer": "ipython3",
      "version": "3.10.1"
    }
  },
  "nbformat": 4,
  "nbformat_minor": 0
}
